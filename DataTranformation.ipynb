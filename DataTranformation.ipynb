{
  "nbformat": 4,
  "nbformat_minor": 0,
  "metadata": {
    "colab": {
      "provenance": [],
      "authorship_tag": "ABX9TyNck8ok0ooe4xOe5MLqxFW4"
    },
    "kernelspec": {
      "name": "python3",
      "display_name": "Python 3"
    },
    "language_info": {
      "name": "python"
    }
  },
  "cells": [
    {
      "cell_type": "markdown",
      "source": [
        "`Clone repository to extract the data`"
      ],
      "metadata": {
        "id": "ipTsaVnrLo94"
      }
    },
    {
      "cell_type": "code",
      "execution_count": 1,
      "metadata": {
        "colab": {
          "base_uri": "https://localhost:8080/"
        },
        "id": "hYvpUG8MbxdZ",
        "outputId": "67ff2399-6731-4f7c-d74b-84af2b9aef19"
      },
      "outputs": [
        {
          "output_type": "stream",
          "name": "stdout",
          "text": [
            "Cloning into 'Google-Playstore-Dataset'...\n",
            "remote: Enumerating objects: 95, done.\u001b[K\n",
            "remote: Counting objects: 100% (3/3), done.\u001b[K\n",
            "remote: Compressing objects: 100% (3/3), done.\u001b[K\n",
            "remote: Total 95 (delta 0), reused 3 (delta 0), pack-reused 92\u001b[K\n",
            "Receiving objects: 100% (95/95), 268.08 MiB | 29.78 MiB/s, done.\n",
            "Resolving deltas: 100% (45/45), done.\n",
            "/content/Google-Playstore-Dataset/dataset\n",
            "Part1.csv\n",
            "Part2.csv\n",
            "Part3.csv\n"
          ]
        }
      ],
      "source": [
        "!git clone https://github.com/gauthamp10/Google-Playstore-Dataset.git\n",
        "%cd Google-Playstore-Dataset/dataset/\n",
        "!for f in *.tar.gz; do tar -xvf \"$f\"; done\n",
        "!cat Part*.csv > Google-Playstore-Dataset.csv"
      ]
    },
    {
      "cell_type": "code",
      "source": [
        "import pandas as pd\n",
        "\n",
        "# Reads the combined CSV file\n",
        "data = pd.read_csv(\"Google-Playstore-Dataset.csv\")\n",
        "print(data)"
      ],
      "metadata": {
        "colab": {
          "base_uri": "https://localhost:8080/"
        },
        "id": "3_BiW0vyb25R",
        "outputId": "40135e5f-91f3-4a9f-abd6-57764bdb902a"
      },
      "execution_count": 2,
      "outputs": [
        {
          "output_type": "stream",
          "name": "stdout",
          "text": [
            "                                                  App Name  \\\n",
            "0                                                  Gakondo   \n",
            "1                                      Ampere Battery Info   \n",
            "2                                                   Vibook   \n",
            "3        Smart City Trichy Public Service Vehicles 17UC...   \n",
            "4                                                  GROW.me   \n",
            "...                                                    ...   \n",
            "2312939                                           大俠客—熱血歸來   \n",
            "2312940                                         ORU Online   \n",
            "2312941                                     Data Structure   \n",
            "2312942                                        Devi Suktam   \n",
            "2312943                       Biliyor Musun - Sonsuz Yarış   \n",
            "\n",
            "                                       App Id       Category  Rating  \\\n",
            "0                         com.ishakwe.gakondo      Adventure     0.0   \n",
            "1                  com.webserveis.batteryinfo          Tools     4.4   \n",
            "2                        com.doantiepvien.crm   Productivity     0.0   \n",
            "3                     cst.stJoseph.ug17ucs548  Communication     5.0   \n",
            "4                        com.horodyski.grower          Tools     0.0   \n",
            "...                                       ...            ...     ...   \n",
            "2312939                         com.rxsj.ssjj   Role Playing     4.3   \n",
            "2312940              com.threedream.oruonline      Education     0.0   \n",
            "2312941  datastructure.appoworld.datastucture      Education     0.0   \n",
            "2312942                     ishan.devi.suktam  Music & Audio     3.5   \n",
            "2312943             com.yyazilim.biliyormusun         Trivia     5.0   \n",
            "\n",
            "         Rating Count  Installs  Minimum Installs  Maximum Installs  Free  \\\n",
            "0                 0.0       10+              10.0                15  True   \n",
            "1                64.0    5,000+            5000.0              7662  True   \n",
            "2                 0.0       50+              50.0                58  True   \n",
            "3                 5.0       10+              10.0                19  True   \n",
            "4                 0.0      100+             100.0               478  True   \n",
            "...               ...       ...               ...               ...   ...   \n",
            "2312939       16775.0  100,000+          100000.0            337109  True   \n",
            "2312940           0.0      100+             100.0               430  True   \n",
            "2312941           0.0      100+             100.0               202  True   \n",
            "2312942           8.0    1,000+            1000.0              2635  True   \n",
            "2312943          12.0      100+             100.0               354  True   \n",
            "\n",
            "         Price  ...                  Developer Website  \\\n",
            "0          0.0  ...        https://beniyizibyose.tk/#/   \n",
            "1          0.0  ...    https://webserveis.netlify.app/   \n",
            "2          0.0  ...                                NaN   \n",
            "3          0.0  ...   http://www.climatesmarttech.com/   \n",
            "4          0.0  ...        http://www.horodyski.com.pl   \n",
            "...        ...  ...                                ...   \n",
            "2312939    0.0  ...          http://www.4399sy.com.hk/   \n",
            "2312940    0.0  ...                http://www.oru.edu/   \n",
            "2312941    0.0  ...                                NaN   \n",
            "2312942    0.0  ...  https://a70f78905.app-ads-txt.com   \n",
            "2312943    0.0  ...                                NaN   \n",
            "\n",
            "                      Developer Email      Released  Last Updated  \\\n",
            "0              jean21101999@gmail.com  Feb 26, 2020  Feb 26, 2020   \n",
            "1                webserveis@gmail.com  May 21, 2020  May 06, 2021   \n",
            "2                 vnacrewit@gmail.com   Aug 9, 2019  Aug 19, 2019   \n",
            "3         climatesmarttech2@gmail.com  Sep 10, 2018  Oct 13, 2018   \n",
            "4           rmilekhorodyski@gmail.com  Feb 21, 2020  Nov 12, 2018   \n",
            "...                               ...           ...           ...   \n",
            "2312939           ssjjcomhk@gmail.com           NaN  Jun 01, 2021   \n",
            "2312940     3DreamDeveloper@gmail.com  Jan 17, 2018  Feb 02, 2018   \n",
            "2312941  appoworld.official@gmail.com  Aug 19, 2018  Aug 19, 2018   \n",
            "2312942           ruchisono@gmail.com   Aug 1, 2016  May 05, 2021   \n",
            "2312943     yyazilimdevelop@gmail.com   Aug 9, 2019  Aug 19, 2019   \n",
            "\n",
            "        Content Rating                                     Privacy Policy  \\\n",
            "0             Everyone                 https://beniyizibyose.tk/projects/   \n",
            "1             Everyone  https://dev4phones.wordpress.com/licencia-de-uso/   \n",
            "2             Everyone  https://www.vietnamairlines.com/vn/en/terms-an...   \n",
            "3             Everyone                                                NaN   \n",
            "4             Everyone                        http://www.horodyski.com.pl   \n",
            "...                ...                                                ...   \n",
            "2312939           Teen             http://a.4399sy.com.hk/user/aggreement   \n",
            "2312940       Everyone    http://www.oru.edu/about-oru/privacy-policy.php   \n",
            "2312941       Everyone  https://appoworld.000webhostapp.com/datastruct...   \n",
            "2312942       Everyone  https://docs.google.com/document/d/1x-9reZuLRX...   \n",
            "2312943       Everyone  https://biliyor-musun-sons.flycricket.io/priva...   \n",
            "\n",
            "        Ad Supported In App Purchases Editors Choice         Scraped Time  \n",
            "0              False            False          False  2021-06-15 20:19:35  \n",
            "1               True            False          False  2021-06-15 20:19:35  \n",
            "2              False            False          False  2021-06-15 20:19:35  \n",
            "3               True            False          False  2021-06-15 20:19:35  \n",
            "4              False            False          False  2021-06-15 20:19:35  \n",
            "...              ...              ...            ...                  ...  \n",
            "2312939        False            False          False  2021-06-16 12:59:18  \n",
            "2312940        False            False          False  2021-06-16 12:59:19  \n",
            "2312941        False            False          False  2021-06-16 12:59:19  \n",
            "2312942         True            False          False  2021-06-16 12:59:19  \n",
            "2312943         True            False          False  2021-06-16 12:59:19  \n",
            "\n",
            "[2312944 rows x 24 columns]\n"
          ]
        }
      ]
    },
    {
      "cell_type": "code",
      "source": [
        "# Remove specific columns\n",
        "data1 = data.drop(['App Id','Rating Count','Currency','Price', 'Developer Website', 'Privacy Policy', 'Developer Id', 'Developer Email', 'Scraped Time', ], axis=1)\n",
        "\n",
        "# Check the number of missing values in each column.\n",
        "print(data1.isnull().sum())\n",
        "\n",
        "# Remove rows with missing values\n",
        "df2 = data1.dropna()\n",
        "\n",
        "# Fill missing values with a specific value\n",
        "df3 = df2.fillna(value=0)\n",
        "df3['Minimum Installs'] = df3['Minimum Installs'].astype(int)\n",
        "\n",
        "# Detect and remove duplicate rows\n",
        "duplicates = df3.duplicated()\n",
        "df4 = df3[~duplicates]\n",
        "\n",
        "# Filter applications that do not contain special characters and that the name has a maximum of 3 words.\n",
        "df_filtered = df4[df4['App Name'].str.split().apply(len) <= 3]\n",
        "df_1 = df_filtered[df_filtered['App Name'].str.match(r'^[a-zA-Z0-9 ]+$')]"
      ],
      "metadata": {
        "id": "nZNyCHzlb8zp",
        "colab": {
          "base_uri": "https://localhost:8080/"
        },
        "outputId": "9f151a8a-f19e-4b56-dca2-57b6d04ac71c"
      },
      "execution_count": 34,
      "outputs": [
        {
          "output_type": "stream",
          "name": "stdout",
          "text": [
            "App Name                2\n",
            "Category                0\n",
            "Rating              22883\n",
            "Installs              107\n",
            "Minimum Installs      107\n",
            "Maximum Installs        0\n",
            "Free                    0\n",
            "Size                  196\n",
            "Minimum Android      6530\n",
            "Released            71053\n",
            "Last Updated            0\n",
            "Content Rating          0\n",
            "Ad Supported            0\n",
            "In App Purchases        0\n",
            "Editors Choice          0\n",
            "dtype: int64\n"
          ]
        }
      ]
    },
    {
      "cell_type": "code",
      "source": [
        "# Shows the number of unique values and their count in the 'Minimum Android' column.\n",
        "print(df_1['Minimum Android'].value_counts())\n",
        "\n",
        "df_data = df_1.copy()\n",
        "# Reemplazar los valores de 0 en la columna 'Minimum Android' con 'unknown'\n",
        "df_data['Minimum Android'].replace(0, 'unknown', inplace=True)"
      ],
      "metadata": {
        "id": "c32SA1zqA-_X",
        "colab": {
          "base_uri": "https://localhost:8080/"
        },
        "outputId": "c607152b-42ee-495e-f8a8-fad7fb4b5a03"
      },
      "execution_count": 35,
      "outputs": [
        {
          "output_type": "stream",
          "name": "stdout",
          "text": [
            "4.1 and up      255393\n",
            "5.0 and up      194660\n",
            "4.4 and up      182126\n",
            "4.0.3 and up     78646\n",
            "4.0 and up       69045\n",
            "                 ...  \n",
            "4.0 - 4.4W           1\n",
            "2.2 - 4.1.1          1\n",
            "1.6 - 4.4            1\n",
            "4.2 - 4.3            1\n",
            "2.3.3 - 6.0          1\n",
            "Name: Minimum Android, Length: 121, dtype: int64\n"
          ]
        }
      ]
    },
    {
      "cell_type": "code",
      "source": [
        "# Shows the number of unique values and their count in the 'ContentRating' column.\n",
        "print(df_data['Content Rating'].value_counts())\n",
        "\n",
        "# Define a mapping dictionary to standardize values\n",
        "mapping = {\n",
        "    'Everyone 10+': 'Everyone',\n",
        "    'Mature 17+': 'Adults',\n",
        "    'Adults only 18+': 'Adults'\n",
        "}\n",
        "\n",
        "df_data['Content Rating'] = df_data['Content Rating'].map(mapping).fillna(df_data['Content Rating'])\n",
        "\n",
        "print(df_data['Content Rating'].unique())"
      ],
      "metadata": {
        "id": "MxLMqWg6GE6o",
        "colab": {
          "base_uri": "https://localhost:8080/"
        },
        "outputId": "dd59f50d-5fe0-4fc1-dc36-84969c3d04d4"
      },
      "execution_count": 36,
      "outputs": [
        {
          "output_type": "stream",
          "name": "stdout",
          "text": [
            "Everyone           953317\n",
            "Teen                70508\n",
            "Mature 17+          20500\n",
            "Everyone 10+        13064\n",
            "Unrated                74\n",
            "Adults only 18+        58\n",
            "Name: Content Rating, dtype: int64\n",
            "['Everyone' 'Teen' 'Adults' 'Unrated']\n"
          ]
        }
      ]
    },
    {
      "cell_type": "code",
      "source": [
        "catego_columns = df_data.select_dtypes(include=['object'])\n",
        "numeric_columns = df_data.select_dtypes(include=['int', 'float'])"
      ],
      "metadata": {
        "id": "gQ6fiCPb_1D3"
      },
      "execution_count": 37,
      "outputs": []
    },
    {
      "cell_type": "code",
      "source": [
        "# Iterate over each column and check for strange characters\n",
        "for column in catego_columns:\n",
        "    strange_characters = df_data[column].apply(lambda x: not x.isascii() if isinstance(x, str) else False).any()\n",
        "    if strange_characters:\n",
        "        print(f'The column \"{column}\" has strange characters.')\n",
        "    else:\n",
        "        print(f'The column \"{column}\" has no strange characters.')"
      ],
      "metadata": {
        "id": "q-Q_tWGThC1q",
        "colab": {
          "base_uri": "https://localhost:8080/"
        },
        "outputId": "08705154-4d96-4283-9530-d25b5bdbadc1"
      },
      "execution_count": 38,
      "outputs": [
        {
          "output_type": "stream",
          "name": "stdout",
          "text": [
            "The column \"App Name\" has no strange characters.\n",
            "The column \"Category\" has no strange characters.\n",
            "The column \"Installs\" has no strange characters.\n",
            "The column \"Size\" has no strange characters.\n",
            "The column \"Minimum Android\" has no strange characters.\n",
            "The column \"Released\" has no strange characters.\n",
            "The column \"Last Updated\" has no strange characters.\n",
            "The column \"Content Rating\" has no strange characters.\n"
          ]
        }
      ]
    },
    {
      "cell_type": "code",
      "source": [
        "# check if there are empty spaces\n",
        "\n",
        "def check_empty_spaces(catego_columns):\n",
        "    empty_spaces = {}\n",
        "\n",
        "    for column in catego_columns:\n",
        "        empty_spaces[column] = df_data[column].apply(lambda x: isinstance(x, str) and x.strip() == '').sum()\n",
        "    return empty_spaces\n",
        "\n",
        "empty_spaces = check_empty_spaces(catego_columns)\n",
        "\n",
        "\n",
        "for column, recount in empty_spaces.items():\n",
        "    print(f'Column \"{column}\" has {recount} values that are empty spaces.')\n"
      ],
      "metadata": {
        "id": "wWtMfKOQ_QbO",
        "colab": {
          "base_uri": "https://localhost:8080/"
        },
        "outputId": "b1fb6c3e-0944-40f8-82bf-b552ecd8421a"
      },
      "execution_count": 39,
      "outputs": [
        {
          "output_type": "stream",
          "name": "stdout",
          "text": [
            "Column \"App Name\" has 0 values that are empty spaces.\n",
            "Column \"Category\" has 0 values that are empty spaces.\n",
            "Column \"Installs\" has 0 values that are empty spaces.\n",
            "Column \"Size\" has 0 values that are empty spaces.\n",
            "Column \"Minimum Android\" has 0 values that are empty spaces.\n",
            "Column \"Released\" has 0 values that are empty spaces.\n",
            "Column \"Last Updated\" has 0 values that are empty spaces.\n",
            "Column \"Content Rating\" has 0 values that are empty spaces.\n"
          ]
        }
      ]
    },
    {
      "cell_type": "code",
      "source": [
        "# Calculate the interquartile range (IQR) for each numerical column.\n",
        "Q1 = numeric_columns.quantile(0.25)\n",
        "Q3 = numeric_columns.quantile(0.75)\n",
        "IQR = Q3 - Q1\n",
        "\n",
        "# Identify the outliers in each numerical column\n",
        "outliers = ((numeric_columns < (Q1 - 1.5 * IQR)) | (numeric_columns > (Q3 + 1.5 * IQR))).sum()\n",
        "\n",
        "# Sum total of outliers in all numeric columns\n",
        "total_outliers = outliers.sum()\n",
        "\n",
        "print(\"Total outliers in numeric columns:\", total_outliers)"
      ],
      "metadata": {
        "id": "M4WWECcH2Y-I",
        "colab": {
          "base_uri": "https://localhost:8080/"
        },
        "outputId": "5c3eefc5-51ff-437b-8329-15f751e3fb5c"
      },
      "execution_count": 40,
      "outputs": [
        {
          "output_type": "stream",
          "name": "stdout",
          "text": [
            "Total outliers in numeric columns: 417066\n"
          ]
        }
      ]
    },
    {
      "cell_type": "code",
      "source": [
        "# Calculate the median for each numerical column\n",
        "median_values = numeric_columns.median()\n",
        "\n",
        "# Replace outliers with the corresponding median\n",
        "for column in numeric_columns.columns:\n",
        "    median = median_values[column]\n",
        "    Q1 = numeric_columns[column].quantile(0.25)\n",
        "    Q3 = numeric_columns[column].quantile(0.75)\n",
        "    IQR = Q3 - Q1\n",
        "    outliers_low = numeric_columns[column] < (Q1 - 1.5 * IQR)\n",
        "    outliers_high = numeric_columns[column] > (Q3 + 1.5 * IQR)\n",
        "    numeric_columns.loc[outliers_low, column] = median\n",
        "    numeric_columns.loc[outliers_high, column] = median\n",
        "\n",
        "print(numeric_columns)"
      ],
      "metadata": {
        "id": "z_sZx00t90Xf",
        "colab": {
          "base_uri": "https://localhost:8080/"
        },
        "outputId": "dcbc1152-09ff-475e-f44a-2f3c47703759"
      },
      "execution_count": 41,
      "outputs": [
        {
          "output_type": "stream",
          "name": "stdout",
          "text": [
            "         Rating  Minimum Installs  Maximum Installs\n",
            "0           0.0                10                15\n",
            "1           4.4               100              7662\n",
            "2           0.0                50                58\n",
            "5           0.0                50                89\n",
            "7           2.0               500               702\n",
            "...         ...               ...               ...\n",
            "2312935     0.0              1000              1302\n",
            "2312936     0.0               100               353\n",
            "2312940     0.0               100               430\n",
            "2312941     0.0               100               202\n",
            "2312942     3.5              1000              2635\n",
            "\n",
            "[1057521 rows x 3 columns]\n"
          ]
        }
      ]
    },
    {
      "cell_type": "code",
      "source": [
        "df_1end = pd.concat([catego_columns, numeric_columns], axis=1)\n",
        "# Remove rows with missing values\n",
        "data_apps = df_1end.dropna()\n",
        "print(data_apps)"
      ],
      "metadata": {
        "id": "Fb2ez_GKKSU9",
        "colab": {
          "base_uri": "https://localhost:8080/"
        },
        "outputId": "43adfd10-868c-436d-ce54-f65ee1c2201d"
      },
      "execution_count": 42,
      "outputs": [
        {
          "output_type": "stream",
          "name": "stdout",
          "text": [
            "                      App Name         Category Installs  Size  \\\n",
            "0                      Gakondo        Adventure      10+   10M   \n",
            "1          Ampere Battery Info            Tools   5,000+  2.9M   \n",
            "2                       Vibook     Productivity      50+  3.7M   \n",
            "5                       IMOCCI           Social      50+   46M   \n",
            "7        The Everyday Calendar        Lifestyle     500+   16M   \n",
            "...                        ...              ...      ...   ...   \n",
            "2312935       Floral Wallpaper  Personalization   1,000+   29M   \n",
            "2312936      Engineers Careers         Business     100+   21M   \n",
            "2312940             ORU Online        Education     100+   44M   \n",
            "2312941         Data Structure        Education     100+   29M   \n",
            "2312942            Devi Suktam    Music & Audio   1,000+   10M   \n",
            "\n",
            "        Minimum Android      Released  Last Updated Content Rating  Rating  \\\n",
            "0            7.1 and up  Feb 26, 2020  Feb 26, 2020       Everyone     0.0   \n",
            "1            5.0 and up  May 21, 2020  May 06, 2021       Everyone     4.4   \n",
            "2          4.0.3 and up   Aug 9, 2019  Aug 19, 2019       Everyone     0.0   \n",
            "5            6.0 and up  Dec 24, 2018  Dec 20, 2019           Teen     0.0   \n",
            "7            5.0 and up  Jun 21, 2019  Jun 21, 2019       Everyone     2.0   \n",
            "...                 ...           ...           ...            ...     ...   \n",
            "2312935      4.1 and up  Jul 19, 2018  Nov 13, 2019       Everyone     0.0   \n",
            "2312936      5.0 and up   Mar 5, 2020  Feb 29, 2020       Everyone     0.0   \n",
            "2312940      4.1 and up  Jan 17, 2018  Feb 02, 2018       Everyone     0.0   \n",
            "2312941      5.0 and up  Aug 19, 2018  Aug 19, 2018       Everyone     0.0   \n",
            "2312942      5.0 and up   Aug 1, 2016  May 05, 2021       Everyone     3.5   \n",
            "\n",
            "         Minimum Installs  Maximum Installs  \n",
            "0                      10                15  \n",
            "1                     100              7662  \n",
            "2                      50                58  \n",
            "5                      50                89  \n",
            "7                     500               702  \n",
            "...                   ...               ...  \n",
            "2312935              1000              1302  \n",
            "2312936               100               353  \n",
            "2312940               100               430  \n",
            "2312941               100               202  \n",
            "2312942              1000              2635  \n",
            "\n",
            "[1057521 rows x 11 columns]\n"
          ]
        }
      ]
    },
    {
      "cell_type": "markdown",
      "source": [
        "`Save clean dataset`"
      ],
      "metadata": {
        "id": "XsbKbyRcN2Co"
      }
    },
    {
      "cell_type": "code",
      "source": [
        "ruta_archivo = \"/content/Google-Playstore-Dataset-Clean.csv\"\n",
        "data_apps.to_csv(ruta_archivo, index=False, encoding='utf-8')\n",
        "\n",
        "# Import library files\n",
        "from google.colab import files\n",
        "\n",
        "# Saves the file to memory\n",
        "buffer = data_apps.to_csv(index=False)"
      ],
      "metadata": {
        "id": "w33zuHRTh0AE"
      },
      "execution_count": 43,
      "outputs": []
    }
  ]
}