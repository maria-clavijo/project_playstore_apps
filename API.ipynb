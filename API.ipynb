{
  "nbformat": 4,
  "nbformat_minor": 0,
  "metadata": {
    "colab": {
      "provenance": []
    },
    "kernelspec": {
      "name": "python3",
      "display_name": "Python 3"
    },
    "language_info": {
      "name": "python"
    }
  },
  "cells": [
    {
      "cell_type": "code",
      "execution_count": 1,
      "metadata": {
        "colab": {
          "base_uri": "https://localhost:8080/"
        },
        "id": "0ojFbDnrsvsr",
        "outputId": "d31e9c98-742b-4ac4-8f22-368aae7f113c"
      },
      "outputs": [
        {
          "output_type": "stream",
          "name": "stdout",
          "text": [
            "Requirement already satisfied: requests in /usr/local/lib/python3.10/dist-packages (2.31.0)\n",
            "Requirement already satisfied: charset-normalizer<4,>=2 in /usr/local/lib/python3.10/dist-packages (from requests) (3.3.2)\n",
            "Requirement already satisfied: idna<4,>=2.5 in /usr/local/lib/python3.10/dist-packages (from requests) (3.6)\n",
            "Requirement already satisfied: urllib3<3,>=1.21.1 in /usr/local/lib/python3.10/dist-packages (from requests) (2.0.7)\n",
            "Requirement already satisfied: certifi>=2017.4.17 in /usr/local/lib/python3.10/dist-packages (from requests) (2024.2.2)\n",
            "Collecting google_play_scraper\n",
            "  Downloading google_play_scraper-1.2.6-py3-none-any.whl (28 kB)\n",
            "Installing collected packages: google_play_scraper\n",
            "Successfully installed google_play_scraper-1.2.6\n"
          ]
        }
      ],
      "source": [
        "!pip install requests\n",
        "!pip install google_play_scraper\n"
      ]
    },
    {
      "cell_type": "code",
      "source": [
        "from google_play_scraper import search, app\n",
        "import pandas as pd\n",
        "\n",
        "categorias = [\n",
        "    'ART_AND_DESIGN', 'AUTO_AND_VEHICLES', 'BEAUTY', 'BOOKS_AND_REFERENCE',\n",
        "    'BUSINESS', 'COMICS', 'COMMUNICATION', 'DATING', 'EDUCATION', 'ENTERTAINMENT',\n",
        "    'EVENTS', 'FINANCE', 'FOOD_AND_DRINK', 'HEALTH_AND_FITNESS', 'HOUSE_AND_HOME',\n",
        "    'LIBRARIES_AND_DEMO', 'LIFESTYLE', 'MAPS_AND_NAVIGATION', 'MEDICAL',\n",
        "    'MUSIC_AND_AUDIO', 'NEWS_AND_MAGAZINES', 'PARENTING', 'PERSONALIZATION',\n",
        "    'PHOTOGRAPHY', 'PRODUCTIVITY', 'SHOPPING', 'SOCIAL', 'SPORTS', 'TOOLS',\n",
        "    'TRAVEL_AND_LOCAL', 'VIDEO_PLAYERS', 'WEATHER', 'GAME_ARCADE', 'GAME_PUZZLE',\n",
        "    'GAME_CARD', 'GAME_CASUAL', 'GAME_RACING', 'GAME_SPORTS', 'GAME_SIMULATION',\n",
        "    'GAME_ACTION', 'GAME_STRATEGY', 'GAME_ROLE_PLAYING'\n",
        "]\n",
        "\n",
        "apps_por_categoria = 100\n",
        "\n",
        "def obtener_datos_categoria(categoria):\n",
        "    result = []\n",
        "    try:\n",
        "        app_list = search(categoria, lang='en', country='us')\n",
        "        app_ids = [app['appId'] for app in app_list][:apps_por_categoria]\n",
        "        for app_id in app_ids:\n",
        "            app_info = app(app_id)\n",
        "            app_info['categoria'] = categoria\n",
        "            if 'score' in app_info:\n",
        "                app_info['score'] = round(app_info['score'], 1)\n",
        "            result.append(app_info)\n",
        "    except Exception as e:\n",
        "        print(f\"Error al obtener datos para la categoría {categoria}: {str(e)}\")\n",
        "    return result\n",
        "\n",
        "datos_apps = {}\n",
        "for categoria in categorias:\n",
        "    datos_apps[categoria] = obtener_datos_categoria(categoria)\n",
        "    print(f\"Datos recogidos para la categoría {categoria}: {len(datos_apps[categoria])} apps\")\n",
        "\n",
        "df_apps = pd.DataFrame([\n",
        "    app_data\n",
        "    for categoria, apps in datos_apps.items()\n",
        "    for app_data in apps\n",
        "])\n",
        "\n",
        "nombre_archivo = 'datos_apps_google_play.csv'\n",
        "df_apps.to_csv(nombre_archivo, index=False)\n",
        "print(f'Datos guardados en el archivo: {nombre_archivo}')\n"
      ],
      "metadata": {
        "colab": {
          "base_uri": "https://localhost:8080/"
        },
        "id": "GfY5tbI5ThLf",
        "outputId": "57898f73-e891-49b1-8f2a-42820a4c33f6"
      },
      "execution_count": 3,
      "outputs": [
        {
          "output_type": "stream",
          "name": "stdout",
          "text": [
            "Datos recogidos para la categoría ART_AND_DESIGN: 30 apps\n",
            "Datos recogidos para la categoría AUTO_AND_VEHICLES: 30 apps\n",
            "Datos recogidos para la categoría BEAUTY: 30 apps\n",
            "Datos recogidos para la categoría BOOKS_AND_REFERENCE: 10 apps\n",
            "Datos recogidos para la categoría BUSINESS: 30 apps\n",
            "Datos recogidos para la categoría COMICS: 30 apps\n",
            "Datos recogidos para la categoría COMMUNICATION: 24 apps\n",
            "Datos recogidos para la categoría DATING: 30 apps\n",
            "Datos recogidos para la categoría EDUCATION: 21 apps\n",
            "Datos recogidos para la categoría ENTERTAINMENT: 28 apps\n",
            "Datos recogidos para la categoría EVENTS: 30 apps\n",
            "Datos recogidos para la categoría FINANCE: 30 apps\n",
            "Datos recogidos para la categoría FOOD_AND_DRINK: 26 apps\n",
            "Datos recogidos para la categoría HEALTH_AND_FITNESS: 26 apps\n",
            "Datos recogidos para la categoría HOUSE_AND_HOME: 30 apps\n",
            "Datos recogidos para la categoría LIBRARIES_AND_DEMO: 30 apps\n",
            "Datos recogidos para la categoría LIFESTYLE: 30 apps\n",
            "Datos recogidos para la categoría MAPS_AND_NAVIGATION: 20 apps\n",
            "Datos recogidos para la categoría MEDICAL: 30 apps\n",
            "Datos recogidos para la categoría MUSIC_AND_AUDIO: 25 apps\n",
            "Error al obtener datos para la categoría NEWS_AND_MAGAZINES: 'NoneType' object is not subscriptable\n",
            "Datos recogidos para la categoría NEWS_AND_MAGAZINES: 0 apps\n",
            "Datos recogidos para la categoría PARENTING: 30 apps\n",
            "Datos recogidos para la categoría PERSONALIZATION: 30 apps\n",
            "Datos recogidos para la categoría PHOTOGRAPHY: 25 apps\n",
            "Datos recogidos para la categoría PRODUCTIVITY: 30 apps\n",
            "Datos recogidos para la categoría SHOPPING: 27 apps\n",
            "Datos recogidos para la categoría SOCIAL: 25 apps\n",
            "Datos recogidos para la categoría SPORTS: 21 apps\n",
            "Datos recogidos para la categoría TOOLS: 30 apps\n",
            "Datos recogidos para la categoría TRAVEL_AND_LOCAL: 30 apps\n",
            "Datos recogidos para la categoría VIDEO_PLAYERS: 30 apps\n",
            "Datos recogidos para la categoría WEATHER: 30 apps\n",
            "Datos recogidos para la categoría GAME_ARCADE: 30 apps\n",
            "Datos recogidos para la categoría GAME_PUZZLE: 30 apps\n",
            "Datos recogidos para la categoría GAME_CARD: 30 apps\n",
            "Datos recogidos para la categoría GAME_CASUAL: 30 apps\n",
            "Datos recogidos para la categoría GAME_RACING: 30 apps\n",
            "Datos recogidos para la categoría GAME_SPORTS: 30 apps\n",
            "Datos recogidos para la categoría GAME_SIMULATION: 30 apps\n",
            "Datos recogidos para la categoría GAME_ACTION: 30 apps\n",
            "Datos recogidos para la categoría GAME_STRATEGY: 25 apps\n",
            "Error al obtener datos para la categoría GAME_ROLE_PLAYING: 'NoneType' object is not subscriptable\n",
            "Datos recogidos para la categoría GAME_ROLE_PLAYING: 0 apps\n",
            "Datos guardados en el archivo: datos_apps_google_play.csv\n"
          ]
        }
      ]
    },
    {
      "cell_type": "code",
      "source": [
        "import pandas as pd\n",
        "\n",
        "# Cargar el archivo CSV directamente desde el entorno de Colab\n",
        "df = pd.read_csv('/content/datos_apps_google_play.csv')  # Asegúrate de usar el nombre correcto del archivo\n",
        "\n",
        "# Lista de columnas a eliminar\n",
        "columnas_a_eliminar = [\n",
        "    'description', 'descriptionHTML', 'summary', 'histogram', 'price',\n",
        "    'currency', 'sale', 'saleTime', 'originalPrice', 'saleText',\n",
        "    'offersIAP', 'inAppProductPrice', 'developer', 'developerId',\n",
        "    'developerEmail', 'developerWebsite', 'developerAddress', 'privacyPolicy',\n",
        "    'genreId', 'categories', 'icon', 'headerImage', 'screenshots',\n",
        "    'video', 'videoImage', 'contentRatingDescription', 'adSupported',\n",
        "    'containsAds', 'updated', 'version', 'comments', 'appId', 'url', 'categoria'\n",
        "]\n",
        "\n",
        "# Eliminar las columnas no deseadas\n",
        "df = df.drop(columns=columnas_a_eliminar, errors='ignore')\n",
        "\n",
        "# Guardar el DataFrame modificado en un nuevo archivo CSV\n",
        "nombre_archivo_salida = '/content/datos_apps_google_play_limpio.csv'\n",
        "df.to_csv(nombre_archivo_salida, index=False)\n",
        "\n",
        "print(f'Datos limpios guardados en el archivo: {nombre_archivo_salida}')\n"
      ],
      "metadata": {
        "colab": {
          "base_uri": "https://localhost:8080/",
          "height": 373
        },
        "id": "_wXe6Qba8Csh",
        "outputId": "83fbc1ac-8edd-40e7-b781-7757617bf1e2"
      },
      "execution_count": 2,
      "outputs": [
        {
          "output_type": "error",
          "ename": "FileNotFoundError",
          "evalue": "[Errno 2] No such file or directory: '/content/datos_apps_google_play.csv'",
          "traceback": [
            "\u001b[0;31m---------------------------------------------------------------------------\u001b[0m",
            "\u001b[0;31mFileNotFoundError\u001b[0m                         Traceback (most recent call last)",
            "\u001b[0;32m<ipython-input-2-4dd553a21742>\u001b[0m in \u001b[0;36m<cell line: 4>\u001b[0;34m()\u001b[0m\n\u001b[1;32m      2\u001b[0m \u001b[0;34m\u001b[0m\u001b[0m\n\u001b[1;32m      3\u001b[0m \u001b[0;31m# Cargar el archivo CSV directamente desde el entorno de Colab\u001b[0m\u001b[0;34m\u001b[0m\u001b[0;34m\u001b[0m\u001b[0m\n\u001b[0;32m----> 4\u001b[0;31m \u001b[0mdf\u001b[0m \u001b[0;34m=\u001b[0m \u001b[0mpd\u001b[0m\u001b[0;34m.\u001b[0m\u001b[0mread_csv\u001b[0m\u001b[0;34m(\u001b[0m\u001b[0;34m'/content/datos_apps_google_play.csv'\u001b[0m\u001b[0;34m)\u001b[0m  \u001b[0;31m# Asegúrate de usar el nombre correcto del archivo\u001b[0m\u001b[0;34m\u001b[0m\u001b[0;34m\u001b[0m\u001b[0m\n\u001b[0m\u001b[1;32m      5\u001b[0m \u001b[0;34m\u001b[0m\u001b[0m\n\u001b[1;32m      6\u001b[0m \u001b[0;31m# Lista de columnas a eliminar\u001b[0m\u001b[0;34m\u001b[0m\u001b[0;34m\u001b[0m\u001b[0m\n",
            "\u001b[0;32m/usr/local/lib/python3.10/dist-packages/pandas/io/parsers/readers.py\u001b[0m in \u001b[0;36mread_csv\u001b[0;34m(filepath_or_buffer, sep, delimiter, header, names, index_col, usecols, dtype, engine, converters, true_values, false_values, skipinitialspace, skiprows, skipfooter, nrows, na_values, keep_default_na, na_filter, verbose, skip_blank_lines, parse_dates, infer_datetime_format, keep_date_col, date_parser, date_format, dayfirst, cache_dates, iterator, chunksize, compression, thousands, decimal, lineterminator, quotechar, quoting, doublequote, escapechar, comment, encoding, encoding_errors, dialect, on_bad_lines, delim_whitespace, low_memory, memory_map, float_precision, storage_options, dtype_backend)\u001b[0m\n\u001b[1;32m    910\u001b[0m     \u001b[0mkwds\u001b[0m\u001b[0;34m.\u001b[0m\u001b[0mupdate\u001b[0m\u001b[0;34m(\u001b[0m\u001b[0mkwds_defaults\u001b[0m\u001b[0;34m)\u001b[0m\u001b[0;34m\u001b[0m\u001b[0;34m\u001b[0m\u001b[0m\n\u001b[1;32m    911\u001b[0m \u001b[0;34m\u001b[0m\u001b[0m\n\u001b[0;32m--> 912\u001b[0;31m     \u001b[0;32mreturn\u001b[0m \u001b[0m_read\u001b[0m\u001b[0;34m(\u001b[0m\u001b[0mfilepath_or_buffer\u001b[0m\u001b[0;34m,\u001b[0m \u001b[0mkwds\u001b[0m\u001b[0;34m)\u001b[0m\u001b[0;34m\u001b[0m\u001b[0;34m\u001b[0m\u001b[0m\n\u001b[0m\u001b[1;32m    913\u001b[0m \u001b[0;34m\u001b[0m\u001b[0m\n\u001b[1;32m    914\u001b[0m \u001b[0;34m\u001b[0m\u001b[0m\n",
            "\u001b[0;32m/usr/local/lib/python3.10/dist-packages/pandas/io/parsers/readers.py\u001b[0m in \u001b[0;36m_read\u001b[0;34m(filepath_or_buffer, kwds)\u001b[0m\n\u001b[1;32m    575\u001b[0m \u001b[0;34m\u001b[0m\u001b[0m\n\u001b[1;32m    576\u001b[0m     \u001b[0;31m# Create the parser.\u001b[0m\u001b[0;34m\u001b[0m\u001b[0;34m\u001b[0m\u001b[0m\n\u001b[0;32m--> 577\u001b[0;31m     \u001b[0mparser\u001b[0m \u001b[0;34m=\u001b[0m \u001b[0mTextFileReader\u001b[0m\u001b[0;34m(\u001b[0m\u001b[0mfilepath_or_buffer\u001b[0m\u001b[0;34m,\u001b[0m \u001b[0;34m**\u001b[0m\u001b[0mkwds\u001b[0m\u001b[0;34m)\u001b[0m\u001b[0;34m\u001b[0m\u001b[0;34m\u001b[0m\u001b[0m\n\u001b[0m\u001b[1;32m    578\u001b[0m \u001b[0;34m\u001b[0m\u001b[0m\n\u001b[1;32m    579\u001b[0m     \u001b[0;32mif\u001b[0m \u001b[0mchunksize\u001b[0m \u001b[0;32mor\u001b[0m \u001b[0miterator\u001b[0m\u001b[0;34m:\u001b[0m\u001b[0;34m\u001b[0m\u001b[0;34m\u001b[0m\u001b[0m\n",
            "\u001b[0;32m/usr/local/lib/python3.10/dist-packages/pandas/io/parsers/readers.py\u001b[0m in \u001b[0;36m__init__\u001b[0;34m(self, f, engine, **kwds)\u001b[0m\n\u001b[1;32m   1405\u001b[0m \u001b[0;34m\u001b[0m\u001b[0m\n\u001b[1;32m   1406\u001b[0m         \u001b[0mself\u001b[0m\u001b[0;34m.\u001b[0m\u001b[0mhandles\u001b[0m\u001b[0;34m:\u001b[0m \u001b[0mIOHandles\u001b[0m \u001b[0;34m|\u001b[0m \u001b[0;32mNone\u001b[0m \u001b[0;34m=\u001b[0m \u001b[0;32mNone\u001b[0m\u001b[0;34m\u001b[0m\u001b[0;34m\u001b[0m\u001b[0m\n\u001b[0;32m-> 1407\u001b[0;31m         \u001b[0mself\u001b[0m\u001b[0;34m.\u001b[0m\u001b[0m_engine\u001b[0m \u001b[0;34m=\u001b[0m \u001b[0mself\u001b[0m\u001b[0;34m.\u001b[0m\u001b[0m_make_engine\u001b[0m\u001b[0;34m(\u001b[0m\u001b[0mf\u001b[0m\u001b[0;34m,\u001b[0m \u001b[0mself\u001b[0m\u001b[0;34m.\u001b[0m\u001b[0mengine\u001b[0m\u001b[0;34m)\u001b[0m\u001b[0;34m\u001b[0m\u001b[0;34m\u001b[0m\u001b[0m\n\u001b[0m\u001b[1;32m   1408\u001b[0m \u001b[0;34m\u001b[0m\u001b[0m\n\u001b[1;32m   1409\u001b[0m     \u001b[0;32mdef\u001b[0m \u001b[0mclose\u001b[0m\u001b[0;34m(\u001b[0m\u001b[0mself\u001b[0m\u001b[0;34m)\u001b[0m \u001b[0;34m->\u001b[0m \u001b[0;32mNone\u001b[0m\u001b[0;34m:\u001b[0m\u001b[0;34m\u001b[0m\u001b[0;34m\u001b[0m\u001b[0m\n",
            "\u001b[0;32m/usr/local/lib/python3.10/dist-packages/pandas/io/parsers/readers.py\u001b[0m in \u001b[0;36m_make_engine\u001b[0;34m(self, f, engine)\u001b[0m\n\u001b[1;32m   1659\u001b[0m                 \u001b[0;32mif\u001b[0m \u001b[0;34m\"b\"\u001b[0m \u001b[0;32mnot\u001b[0m \u001b[0;32min\u001b[0m \u001b[0mmode\u001b[0m\u001b[0;34m:\u001b[0m\u001b[0;34m\u001b[0m\u001b[0;34m\u001b[0m\u001b[0m\n\u001b[1;32m   1660\u001b[0m                     \u001b[0mmode\u001b[0m \u001b[0;34m+=\u001b[0m \u001b[0;34m\"b\"\u001b[0m\u001b[0;34m\u001b[0m\u001b[0;34m\u001b[0m\u001b[0m\n\u001b[0;32m-> 1661\u001b[0;31m             self.handles = get_handle(\n\u001b[0m\u001b[1;32m   1662\u001b[0m                 \u001b[0mf\u001b[0m\u001b[0;34m,\u001b[0m\u001b[0;34m\u001b[0m\u001b[0;34m\u001b[0m\u001b[0m\n\u001b[1;32m   1663\u001b[0m                 \u001b[0mmode\u001b[0m\u001b[0;34m,\u001b[0m\u001b[0;34m\u001b[0m\u001b[0;34m\u001b[0m\u001b[0m\n",
            "\u001b[0;32m/usr/local/lib/python3.10/dist-packages/pandas/io/common.py\u001b[0m in \u001b[0;36mget_handle\u001b[0;34m(path_or_buf, mode, encoding, compression, memory_map, is_text, errors, storage_options)\u001b[0m\n\u001b[1;32m    857\u001b[0m         \u001b[0;32mif\u001b[0m \u001b[0mioargs\u001b[0m\u001b[0;34m.\u001b[0m\u001b[0mencoding\u001b[0m \u001b[0;32mand\u001b[0m \u001b[0;34m\"b\"\u001b[0m \u001b[0;32mnot\u001b[0m \u001b[0;32min\u001b[0m \u001b[0mioargs\u001b[0m\u001b[0;34m.\u001b[0m\u001b[0mmode\u001b[0m\u001b[0;34m:\u001b[0m\u001b[0;34m\u001b[0m\u001b[0;34m\u001b[0m\u001b[0m\n\u001b[1;32m    858\u001b[0m             \u001b[0;31m# Encoding\u001b[0m\u001b[0;34m\u001b[0m\u001b[0;34m\u001b[0m\u001b[0m\n\u001b[0;32m--> 859\u001b[0;31m             handle = open(\n\u001b[0m\u001b[1;32m    860\u001b[0m                 \u001b[0mhandle\u001b[0m\u001b[0;34m,\u001b[0m\u001b[0;34m\u001b[0m\u001b[0;34m\u001b[0m\u001b[0m\n\u001b[1;32m    861\u001b[0m                 \u001b[0mioargs\u001b[0m\u001b[0;34m.\u001b[0m\u001b[0mmode\u001b[0m\u001b[0;34m,\u001b[0m\u001b[0;34m\u001b[0m\u001b[0;34m\u001b[0m\u001b[0m\n",
            "\u001b[0;31mFileNotFoundError\u001b[0m: [Errno 2] No such file or directory: '/content/datos_apps_google_play.csv'"
          ]
        }
      ]
    }
  ]
}