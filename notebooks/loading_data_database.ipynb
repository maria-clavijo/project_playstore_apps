{
 "cells": [
  {
   "cell_type": "code",
   "execution_count": 1,
   "metadata": {},
   "outputs": [
    {
     "name": "stdout",
     "output_type": "stream",
     "text": [
      "                      App Name         Category Installs  Size  \\\n",
      "0                      Gakondo        Adventure      10+   10M   \n",
      "1          Ampere Battery Info            Tools   5,000+  2.9M   \n",
      "2                       Vibook     Productivity      50+  3.7M   \n",
      "3                       IMOCCI           Social      50+   46M   \n",
      "4        The Everyday Calendar        Lifestyle     500+   16M   \n",
      "...                        ...              ...      ...   ...   \n",
      "1057516       Floral Wallpaper  Personalization   1,000+   29M   \n",
      "1057517      Engineers Careers         Business     100+   21M   \n",
      "1057518             ORU Online        Education     100+   44M   \n",
      "1057519         Data Structure        Education     100+   29M   \n",
      "1057520            Devi Suktam    Music & Audio   1,000+   10M   \n",
      "\n",
      "        Minimum Android      Released  Last Updated Content Rating  Rating  \\\n",
      "0            7.1 and up  Feb 26, 2020  Feb 26, 2020       Everyone     0.0   \n",
      "1            5.0 and up  May 21, 2020  May 06, 2021       Everyone     4.4   \n",
      "2          4.0.3 and up   Aug 9, 2019  Aug 19, 2019       Everyone     0.0   \n",
      "3            6.0 and up  Dec 24, 2018  Dec 20, 2019           Teen     0.0   \n",
      "4            5.0 and up  Jun 21, 2019  Jun 21, 2019       Everyone     2.0   \n",
      "...                 ...           ...           ...            ...     ...   \n",
      "1057516      4.1 and up  Jul 19, 2018  Nov 13, 2019       Everyone     0.0   \n",
      "1057517      5.0 and up   Mar 5, 2020  Feb 29, 2020       Everyone     0.0   \n",
      "1057518      4.1 and up  Jan 17, 2018  Feb 02, 2018       Everyone     0.0   \n",
      "1057519      5.0 and up  Aug 19, 2018  Aug 19, 2018       Everyone     0.0   \n",
      "1057520      5.0 and up   Aug 1, 2016  May 05, 2021       Everyone     3.5   \n",
      "\n",
      "         Minimum Installs  Maximum Installs  \n",
      "0                      10                15  \n",
      "1                     100              7662  \n",
      "2                      50                58  \n",
      "3                      50                89  \n",
      "4                     500               702  \n",
      "...                   ...               ...  \n",
      "1057516              1000              1302  \n",
      "1057517               100               353  \n",
      "1057518               100               430  \n",
      "1057519               100               202  \n",
      "1057520              1000              2635  \n",
      "\n",
      "[1057521 rows x 11 columns]\n"
     ]
    }
   ],
   "source": [
    "import psycopg2\n",
    "from psycopg2 import OperationalError\n",
    "import pandas as pd\n",
    "import json\n",
    "\n",
    "df_apps = pd.read_csv(r\"../data/Google-Playstore-Dataset-Clean.csv\")\n",
    "print(df_apps)"
   ]
  },
  {
   "cell_type": "code",
   "execution_count": 56,
   "metadata": {},
   "outputs": [
    {
     "ename": "ObjectInUse",
     "evalue": "la base de datos «playstore_apps» está siendo utilizada por otros usuarios\nDETAIL:  Hay otras 3 sesiones usando la base de datos.\n",
     "output_type": "error",
     "traceback": [
      "\u001b[1;31m---------------------------------------------------------------------------\u001b[0m",
      "\u001b[1;31mObjectInUse\u001b[0m                               Traceback (most recent call last)",
      "Cell \u001b[1;32mIn[56], line 21\u001b[0m\n\u001b[0;32m     18\u001b[0m     conn\u001b[38;5;241m.\u001b[39mclose()\n\u001b[0;32m     19\u001b[0m     \u001b[38;5;28mprint\u001b[39m(\u001b[38;5;124mf\u001b[39m\u001b[38;5;124m\"\u001b[39m\u001b[38;5;124mthe database \u001b[39m\u001b[38;5;124m'\u001b[39m\u001b[38;5;132;01m{\u001b[39;00mdb_name\u001b[38;5;132;01m}\u001b[39;00m\u001b[38;5;124m'\u001b[39m\u001b[38;5;124m has been sucessfully created.\u001b[39m\u001b[38;5;124m\"\u001b[39m)\n\u001b[1;32m---> 21\u001b[0m \u001b[43mcreate_database\u001b[49m\u001b[43m(\u001b[49m\u001b[38;5;124;43m\"\u001b[39;49m\u001b[38;5;124;43mplaystore_apps\u001b[39;49m\u001b[38;5;124;43m\"\u001b[39;49m\u001b[43m)\u001b[49m\n",
      "Cell \u001b[1;32mIn[56], line 14\u001b[0m, in \u001b[0;36mcreate_database\u001b[1;34m(db_name)\u001b[0m\n\u001b[0;32m     10\u001b[0m conn\u001b[38;5;241m.\u001b[39mautocommit \u001b[38;5;241m=\u001b[39m \u001b[38;5;28;01mTrue\u001b[39;00m\n\u001b[0;32m     12\u001b[0m cursor \u001b[38;5;241m=\u001b[39m conn\u001b[38;5;241m.\u001b[39mcursor()\n\u001b[1;32m---> 14\u001b[0m \u001b[43mcursor\u001b[49m\u001b[38;5;241;43m.\u001b[39;49m\u001b[43mexecute\u001b[49m\u001b[43m(\u001b[49m\u001b[38;5;124;43mf\u001b[39;49m\u001b[38;5;124;43m\"\u001b[39;49m\u001b[38;5;124;43mDROP DATABASE IF EXISTS \u001b[39;49m\u001b[38;5;132;43;01m{\u001b[39;49;00m\u001b[43mdb_name\u001b[49m\u001b[38;5;132;43;01m}\u001b[39;49;00m\u001b[38;5;124;43m;\u001b[39;49m\u001b[38;5;124;43m\"\u001b[39;49m\u001b[43m)\u001b[49m\n\u001b[0;32m     15\u001b[0m cursor\u001b[38;5;241m.\u001b[39mexecute(\u001b[38;5;124mf\u001b[39m\u001b[38;5;124m\"\u001b[39m\u001b[38;5;124mCREATE DATABASE \u001b[39m\u001b[38;5;132;01m{\u001b[39;00mdb_name\u001b[38;5;132;01m}\u001b[39;00m\u001b[38;5;124m;\u001b[39m\u001b[38;5;124m\"\u001b[39m)\n\u001b[0;32m     17\u001b[0m cursor\u001b[38;5;241m.\u001b[39mclose()\n",
      "\u001b[1;31mObjectInUse\u001b[0m: la base de datos «playstore_apps» está siendo utilizada por otros usuarios\nDETAIL:  Hay otras 3 sesiones usando la base de datos.\n"
     ]
    }
   ],
   "source": [
    "def create_database(db_name):\n",
    "    with open('db_config.json', 'r') as config_file:\n",
    "        config = json.load(config_file)\n",
    "\n",
    "    conn = psycopg2.connect(\n",
    "        host=config['host'],\n",
    "        user=config['user'],\n",
    "        password=config['password']\n",
    "    )\n",
    "    conn.autocommit = True\n",
    "\n",
    "    cursor = conn.cursor()\n",
    "\n",
    "    cursor.execute(f\"DROP DATABASE IF EXISTS {db_name};\")\n",
    "    cursor.execute(f\"CREATE DATABASE {db_name};\")\n",
    "\n",
    "    cursor.close()\n",
    "    conn.close()\n",
    "    print(f\"the database '{db_name}' has been sucessfully created.\")\n",
    "    \n",
    "create_database(\"playstore_apps\")"
   ]
  },
  {
   "cell_type": "code",
   "execution_count": 82,
   "metadata": {},
   "outputs": [
    {
     "name": "stdout",
     "output_type": "stream",
     "text": [
      "Connection to the database was successful\n"
     ]
    },
    {
     "data": {
      "text/plain": [
       "<connection object at 0x0000012359506460; dsn: 'user=postgres password=xxx dbname=playstore_apps host=localhost', closed: 0>"
      ]
     },
     "execution_count": 82,
     "metadata": {},
     "output_type": "execute_result"
    }
   ],
   "source": [
    "def connect_to_db():\n",
    "    db_conn = None\n",
    "    try:\n",
    "        with open('db_config.json', 'r') as config_file:\n",
    "            db_settings = json.load(config_file)\n",
    "\n",
    "        db_conn = psycopg2.connect(\n",
    "            host='localhost',\n",
    "            user=db_settings['user'],\n",
    "            password=db_settings['password'],\n",
    "            dbname=db_settings['database']\n",
    "        )\n",
    "        print('Connection to the database was successful')\n",
    "    except psycopg2.DatabaseError as db_error:\n",
    "        print('Failed to connect to the database:', db_error)\n",
    "    return db_conn\n",
    "\n",
    "connect_to_db()"
   ]
  },
  {
   "cell_type": "code",
   "execution_count": 85,
   "metadata": {},
   "outputs": [
    {
     "name": "stdout",
     "output_type": "stream",
     "text": [
      "Connection to the database was successful\n",
      "The \"apps\" table has been successfully created.\n"
     ]
    }
   ],
   "source": [
    "def setup_apps_table():\n",
    "    table_creation_sql = '''\n",
    "        CREATE TABLE IF NOT EXISTS apps (\n",
    "            id SERIAL PRIMARY KEY,\n",
    "            app_name VARCHAR(255) NOT NULL,\n",
    "            category VARCHAR(255) NOT NULL,\n",
    "            installs VARCHAR(255) NOT NULL,\n",
    "            size VARCHAR(255) NOT NULL,\n",
    "            minimum_android VARCHAR(255) NOT NULL,\n",
    "            released DATE NOT NULL,\n",
    "            last_updated DATE NOT NULL,\n",
    "            content_rating VARCHAR(255) NOT NULL,\n",
    "            rating FLOAT NOT NULL,\n",
    "            minimum_installs INT NOT NULL,\n",
    "            maximum_installs INT NOT NULL\n",
    "        );\n",
    "    '''\n",
    "    db_connection = None\n",
    "    try:\n",
    "        db_connection = connect_to_db()\n",
    "        db_cursor = db_connection.cursor()\n",
    "        db_cursor.execute(table_creation_sql)\n",
    "        db_cursor.close()\n",
    "        db_connection.commit()\n",
    "        print('The \"apps\" table has been successfully created.')\n",
    "    except (Exception, psycopg2.DatabaseError) as db_error:\n",
    "        print('Error while creating the table:', db_error)\n",
    "    finally:\n",
    "        if db_connection is not None:\n",
    "            db_connection.close()\n",
    "\n",
    "setup_apps_table()"
   ]
  },
  {
   "cell_type": "code",
   "execution_count": 87,
   "metadata": {},
   "outputs": [
    {
     "name": "stdout",
     "output_type": "stream",
     "text": [
      "Connection to the database was successful\n",
      "Datos insertados exitosamente\n"
     ]
    }
   ],
   "source": [
    "def insertar_datos(df):\n",
    "    conn = connect_to_db()\n",
    "    if conn is None:\n",
    "        print(\"No se pudo establecer la conexión con la base de datos.\")\n",
    "        return\n",
    "\n",
    "    cursor = conn.cursor()\n",
    "    query = \"\"\"\n",
    "    INSERT INTO apps (id, app_name, category, installs, size, minimum_android, released, last_updated, content_rating, rating, minimum_installs, maximum_installs)\n",
    "    VALUES (%s, %s, %s, %s, %s, %s, %s, %s, %s, %s, %s, %s)\n",
    "    \"\"\"\n",
    "    try:\n",
    "        for index, row in df.iterrows():\n",
    "            data = (row[\"ID\"], row[\"App Name\"], row[\"Category\"], row[\"Installs\"], row[\"Size\"],\n",
    "                    row[\"Minimum Android\"], row[\"Released\"], row[\"Last Updated\"], row[\"Content Rating\"], row[\"Rating\"], row[\"Minimum Installs\"], row[\"Maximum Installs\"])\n",
    "\n",
    "            cursor.execute(query, data)\n",
    "\n",
    "        conn.commit()\n",
    "        print(\"Datos insertados exitosamente\")\n",
    "    except (Exception, psycopg2.DatabaseError) as error:\n",
    "        print(\"Error al insertar los datos:\", error)\n",
    "        conn.rollback()\n",
    "    finally:\n",
    "        cursor.close()\n",
    "        conn.close()\n",
    "\n",
    "insertar_datos(nuevo_df_apps)"
   ]
  }
 ],
 "metadata": {
  "kernelspec": {
   "display_name": "Python 3",
   "language": "python",
   "name": "python3"
  },
  "language_info": {
   "codemirror_mode": {
    "name": "ipython",
    "version": 3
   },
   "file_extension": ".py",
   "mimetype": "text/x-python",
   "name": "python",
   "nbconvert_exporter": "python",
   "pygments_lexer": "ipython3",
   "version": "3.11.5"
  }
 },
 "nbformat": 4,
 "nbformat_minor": 2
}
