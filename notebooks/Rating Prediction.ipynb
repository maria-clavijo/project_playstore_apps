{
 "cells": [
  {
   "cell_type": "markdown",
   "metadata": {},
   "source": [
    "Classification\n",
    "\n",
    " Classification is a type of machine learning algorithm that is used to classify data.\n",
    "\n",
    "Let's frame it as a classification problem statement.\n",
    "Converting the Rating from continuous to discrete"
   ]
  },
  {
   "cell_type": "code",
   "execution_count": 1,
   "metadata": {},
   "outputs": [],
   "source": [
    "# Data\n",
    "import numpy as np\n",
    "import pandas as pd\n",
    "from collections import defaultdict\n",
    "\n",
    "# Visualization\n",
    "import seaborn as sns\n",
    "import matplotlib.pyplot as plt\n",
    "\n",
    "# Preprocessing\n",
    "from sklearn.model_selection import train_test_split\n",
    "from sklearn.preprocessing import LabelEncoder\n",
    "from sklearn.preprocessing import StandardScaler\n",
    "\n",
    "\n",
    "# Classification\n",
    "from sklearn.linear_model import LogisticRegression\n",
    "from sklearn.neighbors import KNeighborsClassifier\n",
    "from sklearn.ensemble import RandomForestClassifier\n",
    "\n",
    "# Metrics\n",
    "from sklearn.metrics import mean_absolute_error\n",
    "from sklearn.metrics import mean_squared_error\n",
    "\n",
    "\n",
    "# Hide warnings\n",
    "import warnings\n",
    "warnings.filterwarnings('ignore')\n"
   ]
  },
  {
   "cell_type": "code",
   "execution_count": 2,
   "metadata": {},
   "outputs": [
    {
     "name": "stdout",
     "output_type": "stream",
     "text": [
      "                App Name      Category Installs  Size Minimum Android  \\\n",
      "0                Gakondo     Adventure      10+   10M      7.1 and up   \n",
      "1    Ampere Battery Info         Tools   5,000+  2.9M      5.0 and up   \n",
      "2                 Vibook  Productivity      50+  3.7M    4.0.3 and up   \n",
      "3                 IMOCCI        Social      50+   46M      6.0 and up   \n",
      "4  The Everyday Calendar     Lifestyle     500+   16M      5.0 and up   \n",
      "\n",
      "       Released  Last Updated Content Rating  Rating  Minimum Installs  \\\n",
      "0  Feb 26, 2020  Feb 26, 2020       Everyone     0.0                10   \n",
      "1  May 21, 2020  May 06, 2021       Everyone     4.4               100   \n",
      "2   Aug 9, 2019  Aug 19, 2019       Everyone     0.0                50   \n",
      "3  Dec 24, 2018  Dec 20, 2019           Teen     0.0                50   \n",
      "4  Jun 21, 2019  Jun 21, 2019       Everyone     2.0               500   \n",
      "\n",
      "   Maximum Installs  \n",
      "0                15  \n",
      "1              7662  \n",
      "2                58  \n",
      "3                89  \n",
      "4               702  \n"
     ]
    }
   ],
   "source": [
    "# Read the cleaned CSV file\n",
    "df_apps = pd.read_csv(r\"C:\\Users\\USER\\OneDrive - Universidad Autonoma de Occidente\\1. Ing. IAED\\Semestre V\\ETL\\project_playstore_apps\\data\\Google-Playstore-Dataset-Clean.csv\")\n",
    "\n",
    "# Show the first rows of the DataFrame\n",
    "print(df_apps.head())"
   ]
  },
  {
   "cell_type": "markdown",
   "metadata": {},
   "source": [
    "Feature Pruning\n",
    "\n",
    "We decide to prune the following features:\n",
    "\n",
    "- App : App names are of no value for the model\n",
    "- Genres : The informations it stores is same as the feature Category\n",
    "- Current Ver : Current Version of an app doesn't hold significant value\n",
    "- Android Ver: Android Version of an app doesn't hold significant value"
   ]
  },
  {
   "cell_type": "code",
   "execution_count": 3,
   "metadata": {},
   "outputs": [],
   "source": [
    "pruned_features = ['App Name', 'Minimum Android']"
   ]
  },
  {
   "cell_type": "markdown",
   "metadata": {},
   "source": [
    "Step 1 | Data Splitting for Modeling\n",
    "\n",
    "We split the dataset into 80% train and 20% test."
   ]
  },
  {
   "cell_type": "code",
   "execution_count": 4,
   "metadata": {},
   "outputs": [],
   "source": [
    "target = 'Rating'\n",
    "\n",
    "X = df_apps.copy().drop(pruned_features+[target], axis=1)\n",
    "y = df_apps.copy()[target]\n",
    "\n",
    "X_train, X_test, y_train, y_test = train_test_split(X, y, test_size=.2, random_state=42)"
   ]
  },
  {
   "cell_type": "markdown",
   "metadata": {},
   "source": [
    "Label Encoding"
   ]
  },
  {
   "cell_type": "code",
   "execution_count": 8,
   "metadata": {},
   "outputs": [],
   "source": [
    "le_dict = defaultdict()"
   ]
  },
  {
   "cell_type": "code",
   "execution_count": null,
   "metadata": {},
   "outputs": [],
   "source": [
    "features_to_encode = X_train.select_dtypes(include=['category', 'object']).columns\n",
    "\n",
    "for col in features_to_encode:\n",
    "    le = LabelEncoder()\n",
    "\n",
    "    X_train[col] = le.fit_transform(X_train[col]) # Fitting and tranforming the Train data\n",
    "    X_train[col] = X_train[col].astype('category') # Converting the label encoded features from numerical back to categorical dtype in pandas\n",
    "\n",
    "    X_test[col] = le.transform(X_test[col]) # Only transforming the test data\n",
    "    X_test[col] = X_test[col].astype('category') # Converting the label encoded features from numerical back to categorical dtype in pandas\n",
    "\n",
    "    le_dict[col] = le # Saving the label encoder for individual features"
   ]
  },
  {
   "cell_type": "markdown",
   "metadata": {},
   "source": [
    "Standardization"
   ]
  },
  {
   "cell_type": "code",
   "execution_count": null,
   "metadata": {},
   "outputs": [],
   "source": [
    "# Converting and adding \"Last Updated Month\" to categorical features\n",
    "categorical_features = features_to_encode + ['Updated_Month']\n",
    "X_train['Updated_Month'] = X_train['Updated_Month'].astype('category')\n",
    "X_test['Updated_Month'] = X_test['Updated_Month'].astype('category')\n",
    "\n",
    "# Listing numeric features to scale\n",
    "numeric_features = X_train.select_dtypes(exclude=['category', 'object']).columns\n",
    "numeric_features"
   ]
  },
  {
   "cell_type": "code",
   "execution_count": null,
   "metadata": {},
   "outputs": [],
   "source": [
    "scaler = StandardScaler()\n",
    "\n",
    "# Fitting and transforming the Training data\n",
    "X_train[numeric_features] = scaler.fit_transform(X_train[numeric_features])\n",
    "# X_train = scaler.fit_transform(X_train)\n",
    "\n",
    "# Only transforming the Test data\n",
    "X_test[numeric_features] = scaler.transform(X_test[numeric_features])\n",
    "# X_test = scaler.transform(X_test)"
   ]
  },
  {
   "cell_type": "markdown",
   "metadata": {},
   "source": [
    "Step 2 | Modeling"
   ]
  },
  {
   "cell_type": "code",
   "execution_count": null,
   "metadata": {},
   "outputs": [],
   "source": [
    "y_train_int = y_train.astype(int)\n",
    "y_test_int = y_test.astype(int)"
   ]
  },
  {
   "cell_type": "markdown",
   "metadata": {},
   "source": [
    "Creating dataframe for metrics"
   ]
  },
  {
   "cell_type": "code",
   "execution_count": null,
   "metadata": {},
   "outputs": [],
   "source": [
    "models = ['Logistic Regression', 'KNN', 'Random Forest']\n",
    "datasets = ['train', 'test']\n",
    "\n",
    "multi_index = pd.MultiIndex.from_product([models, datasets],\n",
    "                                         names=['model', 'dataset'])\n",
    "\n",
    "df_metrics_clf = pd.DataFrame(index=multi_index,\n",
    "                          columns=['accuracy %'])"
   ]
  },
  {
   "cell_type": "code",
   "execution_count": null,
   "metadata": {},
   "outputs": [],
   "source": [
    "df_metrics_clf"
   ]
  },
  {
   "cell_type": "markdown",
   "metadata": {},
   "source": [
    "Logistic Regression Classifier"
   ]
  },
  {
   "cell_type": "code",
   "execution_count": null,
   "metadata": {},
   "outputs": [],
   "source": [
    "lr_clf = LogisticRegression()\n",
    "lr_clf.fit(X_train, y_train_int)"
   ]
  },
  {
   "cell_type": "code",
   "execution_count": null,
   "metadata": {},
   "outputs": [],
   "source": [
    "df_metrics_clf.loc['Logistic Regression', 'train'] = lr_clf.score(X_train, y_train_int)\n",
    "df_metrics_clf.loc['Logistic Regression', 'test'] = lr_clf.score(X_test, y_test_int)"
   ]
  },
  {
   "cell_type": "markdown",
   "metadata": {},
   "source": [
    "KNeighbors Classifier"
   ]
  },
  {
   "cell_type": "code",
   "execution_count": null,
   "metadata": {},
   "outputs": [],
   "source": [
    "knn_clf = KNeighborsClassifier()\n",
    "knn_clf.fit(X_train, y_train_int)"
   ]
  },
  {
   "cell_type": "code",
   "execution_count": null,
   "metadata": {},
   "outputs": [],
   "source": [
    "df_metrics_clf.loc['KNN', 'train'] = knn_clf.score(X_train, y_train_int)\n",
    "df_metrics_clf.loc['KNN', 'test'] = knn_clf.score(X_test, y_test_int)"
   ]
  },
  {
   "cell_type": "markdown",
   "metadata": {},
   "source": [
    "Random Forest Classifier"
   ]
  },
  {
   "cell_type": "code",
   "execution_count": null,
   "metadata": {},
   "outputs": [],
   "source": [
    "rf_clf = RandomForestClassifier()\n",
    "rf_clf.fit(X_train, y_train_int)"
   ]
  },
  {
   "cell_type": "code",
   "execution_count": null,
   "metadata": {},
   "outputs": [],
   "source": [
    "df_metrics_clf.loc['Random Forest', 'train'] = rf_clf.score(X_train, y_train_int)\n",
    "df_metrics_clf.loc['Random Forest', 'test'] = rf_clf.score(X_test, y_test_int)"
   ]
  },
  {
   "cell_type": "markdown",
   "metadata": {},
   "source": [
    "Classification Evaluation"
   ]
  },
  {
   "cell_type": "code",
   "execution_count": null,
   "metadata": {},
   "outputs": [],
   "source": [
    "# Rounding and coverting the accuracies to percentages\n",
    "df_metrics_clf['accuracy %'] = df_metrics_clf['accuracy %'].apply(lambda v: round(v*100, ndigits=2))\n",
    "df_metrics_clf"
   ]
  },
  {
   "cell_type": "code",
   "execution_count": null,
   "metadata": {},
   "outputs": [],
   "source": [
    "data = df_metrics_clf.reset_index()\n",
    "\n",
    "g = sns.catplot(col='dataset', data=data, kind='bar', x='model', y='accuracy %')\n",
    "\n",
    "# Adding annotations to bars\n",
    "# iterate through axes\n",
    "for ax in g.axes.ravel():\n",
    "    # add annotations\n",
    "    for c in ax.containers:\n",
    "        ax.bar_label(c, label_type='edge')\n",
    "\n",
    "    ax.margins(y=0.2)\n",
    "\n",
    "plt.show()"
   ]
  }
 ],
 "metadata": {
  "kernelspec": {
   "display_name": "base",
   "language": "python",
   "name": "python3"
  },
  "language_info": {
   "codemirror_mode": {
    "name": "ipython",
    "version": 3
   },
   "file_extension": ".py",
   "mimetype": "text/x-python",
   "name": "python",
   "nbconvert_exporter": "python",
   "pygments_lexer": "ipython3",
   "version": "3.11.5"
  }
 },
 "nbformat": 4,
 "nbformat_minor": 2
}
